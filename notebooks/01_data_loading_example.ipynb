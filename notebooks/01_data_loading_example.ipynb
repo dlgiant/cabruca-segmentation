{
 "cells": [
  {
   "cell_type": "markdown",
   "metadata": {},
   "source": [
    "# Geospatial Data Loading Example\n",
    "\n",
    "This notebook demonstrates how to use the geospatial data loaders for the Cabruca Segmentation project."
   ]
  },
  {
   "cell_type": "code",
   "execution_count": null,
   "metadata": {},
   "outputs": [],
   "source": [
    "# Setup\n",
    "import sys\n",
    "from pathlib import Path\n",
    "\n",
    "# Add parent directory to path\n",
    "sys.path.append(str(Path.cwd().parent))\n",
    "\n",
    "# Import simple loader (always available)\n",
    "from src.data_processing import (\n",
    "    SimpleGeoJSONLoader,\n",
    "    CoordinateTransformer,\n",
    "    ImageryMetadata,\n",
    "    BandCalculations,\n",
    "    FULL_LOADER_AVAILABLE\n",
    ")\n",
    "\n",
    "print(f\"Full loader available: {FULL_LOADER_AVAILABLE}\")"
   ]
  },
  {
   "cell_type": "markdown",
   "metadata": {},
   "source": [
    "## 1. Loading GeoJSON Files"
   ]
  },
  {
   "cell_type": "code",
   "execution_count": null,
   "metadata": {},
   "outputs": [],
   "source": [
    "# Load farm1.geojson\n",
    "farm1_path = Path.cwd().parent / \"farm1.geojson\"\n",
    "if farm1_path.exists():\n",
    "    loader = SimpleGeoJSONLoader(farm1_path)\n",
    "    farm1_aois = loader.extract_aois()\n",
    "    \n",
    "    print(f\"Found {len(farm1_aois)} AOI(s) in farm1.geojson\\n\")\n",
    "    \n",
    "    for aoi in farm1_aois:\n",
    "        print(f\"Name: {aoi.name}\")\n",
    "        print(f\"Center: {aoi.center[0]:.4f}, {aoi.center[1]:.4f}\")\n",
    "        print(f\"Area: {aoi.area_approx_hectares:.2f} hectares\")\n",
    "        print(f\"Bounds: {aoi.bounds}\")\n",
    "        print(f\"Properties: {list(aoi.properties.keys())}\")\n",
    "else:\n",
    "    print(f\"File not found: {farm1_path}\")"
   ]
  },
  {
   "cell_type": "code",
   "execution_count": null,
   "metadata": {},
   "outputs": [],
   "source": [
    "# Load camacan-geo.geojson\n",
    "camacan_path = Path.cwd().parent / \"camacan-geo.geojson\"\n",
    "if camacan_path.exists():\n",
    "    loader = SimpleGeoJSONLoader(camacan_path)\n",
    "    camacan_aois = loader.extract_aois()\n",
    "    \n",
    "    print(f\"Found {len(camacan_aois)} AOI(s) in camacan-geo.geojson\\n\")\n",
    "    \n",
    "    for aoi in camacan_aois:\n",
    "        print(f\"Name: {aoi.name}\")\n",
    "        print(f\"Center: {aoi.center[0]:.4f}, {aoi.center[1]:.4f}\")\n",
    "        print(f\"Area: {aoi.area_approx_hectares:.2f} hectares\")\n",
    "        print(f\"Bounds: {aoi.bounds}\")"
   ]
  },
  {
   "cell_type": "markdown",
   "metadata": {},
   "source": [
    "## 2. Planet Labs AOI Format"
   ]
  },
  {
   "cell_type": "code",
   "execution_count": null,
   "metadata": {},
   "outputs": [],
   "source": [
    "# Convert to Planet Labs format\n",
    "if farm1_path.exists():\n",
    "    loader = SimpleGeoJSONLoader(farm1_path)\n",
    "    planet_aoi = loader.to_planet_format(0)\n",
    "    \n",
    "    print(\"Planet Labs AOI format:\")\n",
    "    print(f\"Type: {planet_aoi['type']}\")\n",
    "    print(f\"Number of vertices: {len(planet_aoi['coordinates'][0])}\")\n",
    "    print(f\"First coordinate: {planet_aoi['coordinates'][0][0]}\")\n",
    "    \n",
    "    # This format can be used directly with Planet Labs API\n",
    "    import json\n",
    "    print(\"\\nJSON representation:\")\n",
    "    print(json.dumps(planet_aoi, indent=2))"
   ]
  },
  {
   "cell_type": "markdown",
   "metadata": {},
   "source": [
    "## 3. Coordinate Conversions"
   ]
  },
  {
   "cell_type": "code",
   "execution_count": null,
   "metadata": {},
   "outputs": [],
   "source": [
    "# Demonstrate coordinate conversion\n",
    "if farm1_aois:\n",
    "    aoi = farm1_aois[0]\n",
    "    \n",
    "    # Simulate an image covering the AOI\n",
    "    image_width = 1000\n",
    "    image_height = 1000\n",
    "    \n",
    "    # Convert AOI center to pixel coordinates\n",
    "    center_lon, center_lat = aoi.center\n",
    "    \n",
    "    pixel_x, pixel_y = CoordinateTransformer.geo_to_pixel_simple(\n",
    "        center_lon, center_lat,\n",
    "        aoi.bounds,\n",
    "        image_width, image_height\n",
    "    )\n",
    "    \n",
    "    print(f\"AOI Center (Geographic): {center_lon:.6f}, {center_lat:.6f}\")\n",
    "    print(f\"AOI Center (Pixel): {pixel_x}, {pixel_y}\")\n",
    "    \n",
    "    # Convert back to geographic\n",
    "    back_lon, back_lat = CoordinateTransformer.pixel_to_geo_simple(\n",
    "        pixel_x, pixel_y,\n",
    "        aoi.bounds,\n",
    "        image_width, image_height\n",
    "    )\n",
    "    \n",
    "    print(f\"\\nBack to Geographic: {back_lon:.6f}, {back_lat:.6f}\")\n",
    "    print(f\"Conversion error: {abs(back_lon - center_lon):.8f}, {abs(back_lat - center_lat):.8f}\")"
   ]
  },
  {
   "cell_type": "markdown",
   "metadata": {},
   "source": [
    "## 4. Imagery Metadata"
   ]
  },
  {
   "cell_type": "code",
   "execution_count": null,
   "metadata": {},
   "outputs": [],
   "source": [
    "# Create metadata for a hypothetical satellite image\n",
    "if farm1_aois:\n",
    "    aoi = farm1_aois[0]\n",
    "    \n",
    "    metadata = ImageryMetadata(\n",
    "        width=2000,\n",
    "        height=2000,\n",
    "        bounds=aoi.bounds,\n",
    "        bands=['coastal_blue', 'blue', 'green', 'red', 'rededge', 'nir'],\n",
    "        crs=\"EPSG:4326\"\n",
    "    )\n",
    "    \n",
    "    meta_dict = metadata.to_dict()\n",
    "    \n",
    "    print(\"Imagery Metadata:\")\n",
    "    print(f\"Dimensions: {meta_dict['width']}x{meta_dict['height']} pixels\")\n",
    "    print(f\"Bands: {', '.join(meta_dict['bands'])}\")\n",
    "    print(f\"CRS: {meta_dict['crs']}\")\n",
    "    print(f\"Geographic bounds: {meta_dict['bounds']}\")\n",
    "    print(f\"Pixel resolution: {meta_dict['pixel_resolution_m'][0]:.2f}m x {meta_dict['pixel_resolution_m'][1]:.2f}m\")"
   ]
  },
  {
   "cell_type": "markdown",
   "metadata": {},
   "source": [
    "## 5. Band Calculations (if NumPy available)"
   ]
  },
  {
   "cell_type": "code",
   "execution_count": null,
   "metadata": {},
   "outputs": [],
   "source": [
    "try:\n",
    "    import numpy as np\n",
    "    \n",
    "    # Create synthetic band data\n",
    "    height, width = 100, 100\n",
    "    \n",
    "    # Simulate bands with realistic value ranges\n",
    "    red = np.random.rand(height, width) * 0.3  # Red reflectance typically lower\n",
    "    nir = np.random.rand(height, width) * 0.7  # NIR reflectance typically higher for vegetation\n",
    "    \n",
    "    # Calculate NDVI\n",
    "    ndvi = BandCalculations.calculate_ndvi(red, nir)\n",
    "    \n",
    "    print(\"NDVI Calculation:\")\n",
    "    print(f\"Red band: shape={red.shape}, range=[{red.min():.3f}, {red.max():.3f}]\")\n",
    "    print(f\"NIR band: shape={nir.shape}, range=[{nir.min():.3f}, {nir.max():.3f}]\")\n",
    "    print(f\"NDVI: shape={ndvi.shape}, range=[{ndvi.min():.3f}, {ndvi.max():.3f}]\")\n",
    "    print(f\"Mean NDVI: {ndvi.mean():.3f}\")\n",
    "    \n",
    "    # Normalize NDVI\n",
    "    ndvi_normalized = BandCalculations.normalize_band(ndvi, method='minmax')\n",
    "    print(f\"\\nNormalized NDVI: range=[{ndvi_normalized.min():.3f}, {ndvi_normalized.max():.3f}]\")\n",
    "    \n",
    "    # Visualize if matplotlib is available\n",
    "    try:\n",
    "        import matplotlib.pyplot as plt\n",
    "        \n",
    "        fig, axes = plt.subplots(1, 3, figsize=(12, 4))\n",
    "        \n",
    "        axes[0].imshow(red, cmap='Reds')\n",
    "        axes[0].set_title('Red Band')\n",
    "        axes[0].axis('off')\n",
    "        \n",
    "        axes[1].imshow(nir, cmap='gray')\n",
    "        axes[1].set_title('NIR Band')\n",
    "        axes[1].axis('off')\n",
    "        \n",
    "        im = axes[2].imshow(ndvi, cmap='RdYlGn', vmin=-1, vmax=1)\n",
    "        axes[2].set_title('NDVI')\n",
    "        axes[2].axis('off')\n",
    "        \n",
    "        plt.colorbar(im, ax=axes[2], fraction=0.046, pad=0.04)\n",
    "        plt.tight_layout()\n",
    "        plt.show()\n",
    "        \n",
    "    except ImportError:\n",
    "        print(\"\\nMatplotlib not available for visualization\")\n",
    "        \n",
    "except ImportError:\n",
    "    print(\"NumPy not available - install with: pip install numpy\")"
   ]
  },
  {
   "cell_type": "markdown",
   "metadata": {},
   "source": [
    "## 6. Full Pipeline Example (if dependencies installed)"
   ]
  },
  {
   "cell_type": "code",
   "execution_count": null,
   "metadata": {},
   "outputs": [],
   "source": [
    "if FULL_LOADER_AVAILABLE:\n",
    "    from src.data_processing import GeospatialDataPipeline\n",
    "    \n",
    "    # Initialize pipeline\n",
    "    pipeline = GeospatialDataPipeline()\n",
    "    \n",
    "    # Load AOIs\n",
    "    farm1_aois = pipeline.load_aoi_from_geojson(farm1_path)\n",
    "    \n",
    "    print(\"Full Pipeline Loaded Successfully!\")\n",
    "    print(f\"Number of AOIs: {len(farm1_aois)}\")\n",
    "    \n",
    "    for aoi in farm1_aois:\n",
    "        print(f\"\\nAOI: {aoi.properties.get('name', 'Unnamed')}\")\n",
    "        print(f\"  Accurate area: {aoi.area_m2:.2f} m²\")\n",
    "        print(f\"  UTM CRS: {aoi._get_utm_crs()}\")\n",
    "    \n",
    "    # Example: Prepare synthetic data for training\n",
    "    import numpy as np\n",
    "    \n",
    "    # Create synthetic bands\n",
    "    height, width = 256, 256\n",
    "    bands = {\n",
    "        'red': np.random.rand(height, width) * 0.3,\n",
    "        'green': np.random.rand(height, width) * 0.4,\n",
    "        'blue': np.random.rand(height, width) * 0.2,\n",
    "        'nir': np.random.rand(height, width) * 0.7\n",
    "    }\n",
    "    \n",
    "    # Prepare for training\n",
    "    training_data = pipeline.prepare_training_data(\n",
    "        bands,\n",
    "        normalize=True,\n",
    "        stack=True,\n",
    "        band_order=['red', 'green', 'blue', 'nir']\n",
    "    )\n",
    "    \n",
    "    print(f\"\\nTraining data prepared:\")\n",
    "    print(f\"  Shape: {training_data.shape}\")\n",
    "    print(f\"  Range: [{training_data.min():.3f}, {training_data.max():.3f}]\")\n",
    "    print(f\"  Dtype: {training_data.dtype}\")\n",
    "    \n",
    "else:\n",
    "    print(\"Full loader not available. Install dependencies with:\")\n",
    "    print(\"pip install -r ../requirements.txt\")"
   ]
  },
  {
   "cell_type": "markdown",
   "metadata": {},
   "source": [
    "## 7. Planet Labs Integration Setup"
   ]
  },
  {
   "cell_type": "code",
   "execution_count": null,
   "metadata": {},
   "outputs": [],
   "source": [
    "import os\n",
    "\n",
    "# Check if Planet API key is configured\n",
    "planet_api_key = os.environ.get('PLANET_API_KEY')\n",
    "\n",
    "if planet_api_key:\n",
    "    print(\"✓ Planet API key is configured\")\n",
    "    print(f\"  Key length: {len(planet_api_key)} characters\")\n",
    "    \n",
    "    if FULL_LOADER_AVAILABLE:\n",
    "        from src.data_processing import SatelliteImageryLoader\n",
    "        from datetime import datetime, timedelta\n",
    "        \n",
    "        # Initialize loader\n",
    "        imagery_loader = SatelliteImageryLoader(planet_api_key)\n",
    "        \n",
    "        # Example search (uncomment to run)\n",
    "        # if farm1_aois:\n",
    "        #     results = imagery_loader.search_planet_imagery(\n",
    "        #         aoi=farm1_aois[0],\n",
    "        #         start_date=datetime.now() - timedelta(days=30),\n",
    "        #         end_date=datetime.now(),\n",
    "        #         cloud_cover_max=0.1\n",
    "        #     )\n",
    "        #     print(f\"Found {len(results)} imagery items\")\n",
    "        \n",
    "        print(\"\\nPlanet Labs integration ready!\")\n",
    "    else:\n",
    "        print(\"\\nInstall dependencies to use Planet integration\")\n",
    "else:\n",
    "    print(\"✗ Planet API key not configured\")\n",
    "    print(\"\\nTo use Planet Labs integration:\")\n",
    "    print(\"1. Get an API key from https://www.planet.com/\")\n",
    "    print(\"2. Set the environment variable:\")\n",
    "    print(\"   export PLANET_API_KEY='your-api-key-here'\")\n",
    "    print(\"3. Restart this notebook\")"
   ]
  },
  {
   "cell_type": "markdown",
   "metadata": {},
   "source": [
    "## Summary\n",
    "\n",
    "This notebook demonstrated:\n",
    "\n",
    "1. **Loading GeoJSON files** and extracting AOI information\n",
    "2. **Converting to Planet Labs format** for API integration\n",
    "3. **Coordinate conversions** between geographic and pixel coordinates\n",
    "4. **Managing imagery metadata** for satellite data\n",
    "5. **Band calculations** including NDVI\n",
    "6. **Full pipeline usage** (when dependencies are installed)\n",
    "7. **Planet Labs setup** for satellite imagery access\n",
    "\n",
    "### Next Steps:\n",
    "\n",
    "1. Install full dependencies: `pip install -r ../requirements.txt`\n",
    "2. Add real satellite imagery to test with actual data\n",
    "3. Configure Planet Labs API key for imagery download\n",
    "4. Integrate with model training pipeline\n",
    "5. Develop preprocessing workflows for specific use cases"
   ]
  }
 ],
 "metadata": {
  "kernelspec": {
   "display_name": "Python 3",
   "language": "python",
   "name": "python3"
  },
  "language_info": {
   "codemirror_mode": {
    "name": "ipython",
    "version": 3
   },
   "file_extension": ".py",
   "mimetype": "text/x-python",
   "name": "python",
   "nbconvert_exporter": "python",
   "pygments_lexer": "ipython3",
   "version": "3.8.0"
  }
 },
 "nbformat": 4,
 "nbformat_minor": 4
}
